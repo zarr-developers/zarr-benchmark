{
 "cells": [
  {
   "cell_type": "markdown",
   "metadata": {},
   "source": [
    "Requirements to run this notebook:\n",
    "\n",
    "1. [Install `perfcapture` and its dependencies in a new virtual environment](https://github.com/zarr-developers/perfcapture).\n",
    "2. Activate that venv.\n",
    "3. Install additional Python dependencies within the venv: `pip install ipykernel zarr matplotlib`\n",
    "4. Optionally, install `fio` to benchmark your local hard disk. (On Ubuntu: `sudo apt install fio`)"
   ]
  },
  {
   "cell_type": "markdown",
   "metadata": {},
   "source": [
    "# Benchmark local hard disk using `fio`\n",
    "\n",
    "[`fio`](https://fio.readthedocs.io/) is a disk benchmarking tool written by [Jens Axboe](https://en.wikipedia.org/wiki/Jens_Axboe) (Jens is the current Linux kernel maintainer of the block layer).\n",
    "\n",
    "\n",
    "\n"
   ]
  },
  {
   "cell_type": "code",
   "execution_count": 89,
   "metadata": {},
   "outputs": [],
   "source": [
    "!mkdir -p ~/temp/fio"
   ]
  },
  {
   "cell_type": "code",
   "execution_count": 108,
   "metadata": {},
   "outputs": [],
   "source": [
    "%%capture fio_json\n",
    "!fio --name=read --size=1g --direct=1 --bs=64k --rw=read \\\n",
    "     --ioengine=libaio --iodepth=32 \\\n",
    "     --directory=\"$HOME/temp/fio/\" --output-format=json"
   ]
  },
  {
   "cell_type": "code",
   "execution_count": 109,
   "metadata": {},
   "outputs": [
    {
     "name": "stdout",
     "output_type": "stream",
     "text": [
      "This hard drive is capable of 1.632 gigabytes per second.\n"
     ]
    }
   ],
   "source": [
    "import json\n",
    "fio_json = json.loads(fio_json.stdout)\n",
    "max_gbytes_per_sec = fio_json['jobs'][0]['read']['bw_bytes'] / 1E9\n",
    "print(f\"This hard drive is capable of {max_gbytes_per_sec:.3f} gigabytes per second.\")"
   ]
  },
  {
   "cell_type": "markdown",
   "metadata": {},
   "source": [
    "# Create datasets and run workloads"
   ]
  },
  {
   "cell_type": "code",
   "execution_count": 1,
   "metadata": {},
   "outputs": [],
   "source": [
    "from perfcapture.workload import load_workloads_from_filename, run_workloads\n",
    "from perfcapture.dataset import create_datasets_if_necessary\n",
    "import pathlib\n",
    "import os"
   ]
  },
  {
   "cell_type": "code",
   "execution_count": 2,
   "metadata": {},
   "outputs": [
    {
     "name": "stdout",
     "output_type": "stream",
     "text": [
      "Instantiating ZarrPythonLoadEntireArray\n"
     ]
    }
   ],
   "source": [
    "path = pathlib.Path('../recipes/simple_zarr_python_workloads.py').resolve().absolute()\n",
    "os.chdir(path.parent)\n",
    "workloads = load_workloads_from_filename(path)"
   ]
  },
  {
   "cell_type": "code",
   "execution_count": 3,
   "metadata": {},
   "outputs": [
    {
     "name": "stdout",
     "output_type": "stream",
     "text": [
      "Found 5 Dataset object(s).\n",
      "<simple_datasets.Uncompressed_10000_Chunks object at 0x7f9347fa6210> already exists.\n",
      "<simple_datasets.LZ4_100_Chunks object at 0x7f936c116250> already exists.\n",
      "<simple_datasets.Uncompressed_100_Chunks object at 0x7f9347fa5490> already exists.\n",
      "<simple_datasets.Uncompressed_1_Chunk object at 0x7f93641ad2d0> already exists.\n",
      "<simple_datasets.LZ4_10000_Chunks object at 0x7f9347fa6110> already exists.\n"
     ]
    }
   ],
   "source": [
    "DATA_PATH = pathlib.Path(\"~/temp/perfcapture_data_path\").expanduser()\n",
    "create_datasets_if_necessary(workloads, DATA_PATH)"
   ]
  },
  {
   "cell_type": "code",
   "execution_count": 4,
   "metadata": {},
   "outputs": [
    {
     "name": "stdout",
     "output_type": "stream",
     "text": [
      "Running ZarrPythonLoadEntireArray 1 times on /home/jack/temp/perfcapture_data_path/Uncompressed_1_Chunk!\n",
      "  Finished!\n",
      "  Runtime: mean = 11.753 seconds; std = 0.000\n",
      "  Gigabytes per second: mean = 0.340 GB/s; std = 0.000\n",
      "\n",
      "Running ZarrPythonLoadEntireArray 1 times on /home/jack/temp/perfcapture_data_path/LZ4_100_Chunks!\n",
      "  Finished!\n",
      "  Runtime: mean = 12.615 seconds; std = 0.000\n",
      "  Gigabytes per second: mean = 0.317 GB/s; std = 0.000\n",
      "\n",
      "Running ZarrPythonLoadEntireArray 1 times on /home/jack/temp/perfcapture_data_path/Uncompressed_100_Chunks!\n",
      "  Finished!\n",
      "  Runtime: mean = 10.855 seconds; std = 0.000\n",
      "  Gigabytes per second: mean = 0.369 GB/s; std = 0.000\n",
      "\n",
      "Running ZarrPythonLoadEntireArray 1 times on /home/jack/temp/perfcapture_data_path/LZ4_10000_Chunks!\n",
      "  Finished!\n",
      "  Runtime: mean = 10.845 seconds; std = 0.000\n",
      "  Gigabytes per second: mean = 0.369 GB/s; std = 0.000\n",
      "\n",
      "Running ZarrPythonLoadEntireArray 1 times on /home/jack/temp/perfcapture_data_path/Uncompressed_10000_Chunks!\n",
      "  Finished!\n",
      "  Runtime: mean = 14.651 seconds; std = 0.000\n",
      "  Gigabytes per second: mean = 0.273 GB/s; std = 0.000\n",
      "\n"
     ]
    }
   ],
   "source": [
    "all_timers = run_workloads(workloads, keep_cache=False)"
   ]
  },
  {
   "cell_type": "code",
   "execution_count": 5,
   "metadata": {},
   "outputs": [
    {
     "data": {
      "text/plain": [
       "{'ZarrPythonLoadEntireArray /home/jack/temp/perfcapture_data_path/Uncompressed_1_Chunk': <perfcapture.timer.Timer at 0x7f9364708cd0>,\n",
       " 'ZarrPythonLoadEntireArray /home/jack/temp/perfcapture_data_path/LZ4_100_Chunks': <perfcapture.timer.Timer at 0x7f936da3b9d0>,\n",
       " 'ZarrPythonLoadEntireArray /home/jack/temp/perfcapture_data_path/Uncompressed_100_Chunks': <perfcapture.timer.Timer at 0x7f936c1538d0>,\n",
       " 'ZarrPythonLoadEntireArray /home/jack/temp/perfcapture_data_path/LZ4_10000_Chunks': <perfcapture.timer.Timer at 0x7f936473ee10>,\n",
       " 'ZarrPythonLoadEntireArray /home/jack/temp/perfcapture_data_path/Uncompressed_10000_Chunks': <perfcapture.timer.Timer at 0x7f9347fecdd0>}"
      ]
     },
     "execution_count": 5,
     "metadata": {},
     "output_type": "execute_result"
    }
   ],
   "source": [
    "all_timers"
   ]
  },
  {
   "cell_type": "code",
   "execution_count": null,
   "metadata": {},
   "outputs": [],
   "source": []
  }
 ],
 "metadata": {
  "kernelspec": {
   "display_name": "perfcapture",
   "language": "python",
   "name": "python3"
  },
  "language_info": {
   "codemirror_mode": {
    "name": "ipython",
    "version": 3
   },
   "file_extension": ".py",
   "mimetype": "text/x-python",
   "name": "python",
   "nbconvert_exporter": "python",
   "pygments_lexer": "ipython3",
   "version": "3.11.4"
  }
 },
 "nbformat": 4,
 "nbformat_minor": 2
}
