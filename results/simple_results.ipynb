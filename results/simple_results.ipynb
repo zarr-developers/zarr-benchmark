{
 "cells": [
  {
   "cell_type": "markdown",
   "metadata": {},
   "source": [
    "Requirements to run this notebook:\n",
    "\n",
    "1. [Install `perfcapture` and its dependencies in a new virtual environment](https://github.com/zarr-developers/perfcapture).\n",
    "2. Activate that venv.\n",
    "3. Install additional Python dependencies within the venv: `pip install ipykernel zarr matplotlib`\n",
    "4. Optionally, install `fio` to benchmark your local hard disk. (On Ubuntu: `sudo apt install fio`)"
   ]
  },
  {
   "cell_type": "markdown",
   "metadata": {},
   "source": [
    "# Benchmark local hard disk using `fio`\n",
    "\n",
    "[`fio`](https://fio.readthedocs.io/) is a disk benchmarking tool written by [Jens Axboe](https://en.wikipedia.org/wiki/Jens_Axboe) (Jens is the current Linux kernel maintainer of the block layer).\n",
    "\n",
    "\n",
    "\n"
   ]
  },
  {
   "cell_type": "code",
   "execution_count": 1,
   "metadata": {},
   "outputs": [],
   "source": [
    "!mkdir -p ~/temp/fio"
   ]
  },
  {
   "cell_type": "code",
   "execution_count": 2,
   "metadata": {},
   "outputs": [],
   "source": [
    "%%capture fio_json\n",
    "!fio --name=read --size=1g --direct=1 --bs=64k --rw=read \\\n",
    "     --ioengine=libaio --iodepth=32 \\\n",
    "     --directory=\"$HOME/temp/fio/\" --output-format=json"
   ]
  },
  {
   "cell_type": "code",
   "execution_count": 3,
   "metadata": {},
   "outputs": [
    {
     "name": "stdout",
     "output_type": "stream",
     "text": [
      "This hard drive is capable of 2.049 gigabytes per second.\n"
     ]
    }
   ],
   "source": [
    "import json\n",
    "fio_json = json.loads(fio_json.stdout)\n",
    "max_gbytes_per_sec = fio_json['jobs'][0]['read']['bw_bytes'] / 1E9\n",
    "print(f\"This hard drive is capable of {max_gbytes_per_sec:.3f} gigabytes per second.\")"
   ]
  },
  {
   "cell_type": "markdown",
   "metadata": {},
   "source": [
    "# Create datasets and run workloads"
   ]
  },
  {
   "cell_type": "code",
   "execution_count": 1,
   "metadata": {},
   "outputs": [],
   "source": [
    "from perfcapture.workload import load_workloads_from_filename, run_workloads\n",
    "from perfcapture.dataset import create_datasets_if_necessary\n",
    "import pathlib\n",
    "import os\n",
    "import time"
   ]
  },
  {
   "cell_type": "code",
   "execution_count": 2,
   "metadata": {},
   "outputs": [
    {
     "name": "stdout",
     "output_type": "stream",
     "text": [
      "Instantiating ZarrPythonLoadEntireArray\n"
     ]
    }
   ],
   "source": [
    "path = pathlib.Path('../recipes/simple_zarr_python_workloads.py').resolve().absolute()\n",
    "os.chdir(path.parent)\n",
    "workloads = load_workloads_from_filename(path)"
   ]
  },
  {
   "cell_type": "code",
   "execution_count": 3,
   "metadata": {},
   "outputs": [
    {
     "name": "stdout",
     "output_type": "stream",
     "text": [
      "Found 5 Dataset object(s).\n",
      "LZ4_100_Chunks already exists.\n",
      "Uncompressed_1_Chunk already exists.\n",
      "Uncompressed_10000_Chunks already exists.\n",
      "Uncompressed_100_Chunks already exists.\n",
      "LZ4_10000_Chunks already exists.\n"
     ]
    }
   ],
   "source": [
    "DATA_PATH = pathlib.Path(\"~/temp/perfcapture_data_path\").expanduser()\n",
    "created_at_least_1_dataset: bool = create_datasets_if_necessary(workloads, DATA_PATH)\n",
    "if created_at_least_1_dataset:\n",
    "    print(\"Waiting for data to be flushed to disk...\")\n",
    "    time.sleep(10)"
   ]
  },
  {
   "cell_type": "code",
   "execution_count": 4,
   "metadata": {},
   "outputs": [
    {
     "name": "stdout",
     "output_type": "stream",
     "text": [
      "Running ZarrPythonLoadEntireArray 3 times on Uncompressed_1_Chunk!\n",
      "  Finished!\n",
      "   Runtime in secs: mean =    13.592; std =     0.647\n",
      "   GB/sec to numpy: mean =     0.295; std =     0.014\n",
      "\n",
      "Disk IO:\n",
      "         read_iops: mean =  2344.145; std =   152.532\n",
      "        write_iops: mean =   189.996; std =   213.327\n",
      "   read_GB_per_sec: mean =     0.298; std =     0.016\n",
      "  write_GB_per_sec: mean =     0.013; std =     0.013\n",
      "\n",
      "\n",
      "Running ZarrPythonLoadEntireArray 3 times on LZ4_100_Chunks!\n",
      "  Finished!\n",
      "   Runtime in secs: mean =     3.239; std =     0.679\n",
      "   GB/sec to numpy: mean =     1.268; std =     0.238\n",
      "\n",
      "Disk IO:\n",
      "         read_iops: mean =  1921.483; std =   200.297\n",
      "        write_iops: mean =    11.008; std =     5.790\n",
      "   read_GB_per_sec: mean =     0.214; std =     0.037\n",
      "  write_GB_per_sec: mean =     0.000; std =     0.000\n",
      "\n",
      "\n",
      "Running ZarrPythonLoadEntireArray 3 times on Uncompressed_100_Chunks!\n",
      "  Finished!\n",
      "   Runtime in secs: mean =    10.933; std =     0.262\n",
      "   GB/sec to numpy: mean =     0.366; std =     0.009\n",
      "\n",
      "Disk IO:\n",
      "         read_iops: mean =  2823.570; std =    66.654\n",
      "        write_iops: mean =     8.739; std =     2.521\n",
      "   read_GB_per_sec: mean =     0.366; std =     0.009\n",
      "  write_GB_per_sec: mean =     0.000; std =     0.000\n",
      "\n",
      "\n",
      "Running ZarrPythonLoadEntireArray 3 times on LZ4_10000_Chunks!\n",
      "  Finished!\n",
      "   Runtime in secs: mean =     3.206; std =     0.239\n",
      "   GB/sec to numpy: mean =     1.252; std =     0.092\n",
      "\n",
      "Disk IO:\n",
      "         read_iops: mean =  3588.504; std =   424.974\n",
      "        write_iops: mean =    10.363; std =     4.858\n",
      "   read_GB_per_sec: mean =     0.083; std =     0.006\n",
      "  write_GB_per_sec: mean =     0.000; std =     0.000\n",
      "\n",
      "\n",
      "Running ZarrPythonLoadEntireArray 3 times on Uncompressed_10000_Chunks!\n",
      "  Finished!\n",
      "   Runtime in secs: mean =    15.255; std =     0.901\n",
      "   GB/sec to numpy: mean =     0.263; std =     0.015\n",
      "\n",
      "Disk IO:\n",
      "         read_iops: mean =  2660.406; std =   103.562\n",
      "        write_iops: mean =     5.782; std =     1.350\n",
      "   read_GB_per_sec: mean =     0.264; std =     0.014\n",
      "  write_GB_per_sec: mean =     0.000; std =     0.000\n",
      "\n",
      "\n"
     ]
    }
   ],
   "source": [
    "all_timers = run_workloads(workloads, keep_cache=False)"
   ]
  },
  {
   "cell_type": "code",
   "execution_count": 5,
   "metadata": {},
   "outputs": [
    {
     "data": {
      "text/plain": [
       "{('ZarrPythonLoadEntireArray',\n",
       "  'Uncompressed_1_Chunk'): CounterManager(counters=[<perfcapture.performance_counters.Runtime object at 0x7f1506b3e5d0>, <perfcapture.performance_counters.BandwidthToNumpy object at 0x7f1542f35410>, <perfcapture.performance_counters.DiskIO object at 0x7f150710c610>]),\n",
       " ('ZarrPythonLoadEntireArray',\n",
       "  'LZ4_100_Chunks'): CounterManager(counters=[<perfcapture.performance_counters.Runtime object at 0x7f1506b4bad0>, <perfcapture.performance_counters.BandwidthToNumpy object at 0x7f1506b4ba90>, <perfcapture.performance_counters.DiskIO object at 0x7f1506b53050>]),\n",
       " ('ZarrPythonLoadEntireArray',\n",
       "  'Uncompressed_100_Chunks'): CounterManager(counters=[<perfcapture.performance_counters.Runtime object at 0x7f1506b64ad0>, <perfcapture.performance_counters.BandwidthToNumpy object at 0x7f1506b64dd0>, <perfcapture.performance_counters.DiskIO object at 0x7f1506b51590>]),\n",
       " ('ZarrPythonLoadEntireArray',\n",
       "  'LZ4_10000_Chunks'): CounterManager(counters=[<perfcapture.performance_counters.Runtime object at 0x7f1506b7c950>, <perfcapture.performance_counters.BandwidthToNumpy object at 0x7f1506b7cf10>, <perfcapture.performance_counters.DiskIO object at 0x7f1506b829d0>]),\n",
       " ('ZarrPythonLoadEntireArray',\n",
       "  'Uncompressed_10000_Chunks'): CounterManager(counters=[<perfcapture.performance_counters.Runtime object at 0x7f1418417810>, <perfcapture.performance_counters.BandwidthToNumpy object at 0x7f1418417850>, <perfcapture.performance_counters.DiskIO object at 0x7f1418417d50>])}"
      ]
     },
     "execution_count": 5,
     "metadata": {},
     "output_type": "execute_result"
    }
   ],
   "source": [
    "all_timers"
   ]
  },
  {
   "cell_type": "code",
   "execution_count": null,
   "metadata": {},
   "outputs": [],
   "source": []
  }
 ],
 "metadata": {
  "kernelspec": {
   "display_name": "perfcapture",
   "language": "python",
   "name": "python3"
  },
  "language_info": {
   "codemirror_mode": {
    "name": "ipython",
    "version": 3
   },
   "file_extension": ".py",
   "mimetype": "text/x-python",
   "name": "python",
   "nbconvert_exporter": "python",
   "pygments_lexer": "ipython3",
   "version": "3.11.4"
  }
 },
 "nbformat": 4,
 "nbformat_minor": 2
}
